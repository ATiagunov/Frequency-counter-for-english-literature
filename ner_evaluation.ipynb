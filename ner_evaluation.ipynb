{
 "cells": [
  {
   "cell_type": "code",
   "execution_count": 2,
   "metadata": {},
   "outputs": [],
   "source": [
    "import nltk\n",
    "from nltk.tokenize import sent_tokenize\n",
    "from nltk.tokenize import word_tokenize \n",
    "from flair.data import Sentence\n",
    "from flair.models import SequenceTagger\n",
    "from deepdiff import DeepDiff"
   ]
  },
  {
   "cell_type": "code",
   "execution_count": 3,
   "metadata": {},
   "outputs": [],
   "source": [
    "with open(\"fellowship.txt\", \"r\") as txt:\n",
    "  read = txt.read()\n",
    "  token_sent = sent_tokenize(read)"
   ]
  },
  {
   "cell_type": "markdown",
   "metadata": {},
   "source": [
    "Flair NER"
   ]
  },
   "source": [
    "for sent in token_sent:\n",
    "  sentence = Sentence(sent)\n",
    "  for token in sentence.tokens:\n",
    "    print(token.text)"
   ]
  },
  {
   "cell_type": "code",
   "execution_count": 8,
   "metadata": {},
   "outputs": [
    {
     "name": "stdout",
     "output_type": "stream",
     "text": [
      "2021-12-25 03:30:03,420 --------------------------------------------------------------------------------\n",
      "2021-12-25 03:30:03,423 The model key 'ner' now maps to 'https://huggingface.co/flair/ner-english' on the HuggingFace ModelHub\n",
      "2021-12-25 03:30:03,424  - The most current version of the model is automatically downloaded from there.\n",
      "2021-12-25 03:30:03,425  - (you can alternatively manually download the original model at https://nlp.informatik.hu-berlin.de/resources/models/ner/en-ner-conll03-v0.4.pt)\n",
      "2021-12-25 03:30:03,427 --------------------------------------------------------------------------------\n",
      "2021-12-25 03:30:04,650 loading file /home/alexander/.flair/models/ner-english/4f4cdab26f24cb98b732b389e6cebc646c36f54cfd6e0b7d3b90b25656e4262f.8baa8ae8795f4df80b28e7f7b61d788ecbb057d1dc85aacb316f1bd02837a4a4\n"
     ]
    }
   ],
   "source": [
    "tagger = SequenceTagger.load('ner')\n",
    "sents_pred_labels_flair = []\n",
    "for sent in token_sent:\n",
    "  sentence = Sentence(sent)\n",
    "  tagger.predict(sentence)\n",
    "  for entity in sentence.get_spans('ner'):\n",
    "    info = {\"text\": entity.text,\"type\": entity.labels[0].value}\n",
    "    sents_pred_labels_flair.append(info)"
   ]
  },
  {
   "cell_type": "code",
   "execution_count": 38,
   "metadata": {},
   "outputs": [],
   "source": [
    "sents_true_labels = [{'text': 'Sam', 'type': 'PER'},\n",
    "{'text': 'Merry', 'type': 'PER'},\n",
    "{'text': 'Pippin', 'type': 'PER'},\n",
    "{'text': 'Merry', 'type': 'PER'},\n",
    "{'text': 'Frodo', 'type': 'PER'},\n",
    "{'text': 'Merry', 'type': 'PER'},\n",
    "{'text': 'Forest', 'type': 'LOC'},\n",
    "{'text': 'Sam', 'type': 'PER'},\n",
    "{'text': 'Frodo', 'type': 'PER'},\n",
    "{'text': 'Forest', 'type': 'LOC'},\n",
    "{'text': 'Tom Bom', 'type': 'PER'},\n",
    "{'text': 'Tom', 'type': 'PER'},\n",
    "{'text': 'Tom Bombadillo', 'type': 'PER'},\n",
    "{'text': 'Frodo', 'type': 'PER'},\n",
    "{'text': 'Sam', 'type': 'PER'},\n",
    "{'text': 'Tom Bombadil', 'type': 'PER'},\n",
    "{'text': 'Goldberry', 'type': 'PER'},\n",
    "{'text': 'Goldberry', 'type': 'PER'},\n",
    "{'text': 'Willow-man', 'type': 'PER'},\n",
    "{'text': 'Tom', 'type': 'PER'},\n",
    "{'text': 'Tom', 'type': 'PER'},\n",
    "{'text': 'Frodo', 'type': 'PER'},\n",
    "{'text': 'Sam', 'type': 'PER'},\n",
    "{'text': 'Big People', 'type': 'MISC'},\n",
    "{'text': 'Frodo', 'type': 'PER'},\n",
    "{'text': 'Sam', 'type': 'PER'},\n",
    "{'text': 'Tom Bombadil', 'type': 'PER'},\n",
    "{'text': 'Tom', 'type': 'PER'},\n",
    "{'text': 'Frodo', 'type': 'PER'},\n",
    "{'text': 'Merry', 'type': 'PER'},\n",
    "{'text': 'Sam', 'type': 'PER'},\n",
    "{'text': 'Tom Bombadil', 'type': 'PER'},\n",
    "{'text': 'Old Man Willow', 'type': 'MISC'},\n",
    "{'text': 'Willow-man', 'type': 'MISC'},\n",
    "{'text': 'Old Man Willow', 'type': 'MISC'},\n",
    "{'text': 'Merry', 'type': 'PER'},\n",
    "{'text': 'Tom', 'type': 'PER'},\n",
    "{'text': 'Merry', 'type': 'PER'},\n",
    "{'text': 'Tom', 'type': 'PER'},\n",
    "{'text': 'Old Man Willow', 'type': 'MISC'},\n",
    "{'text': 'Bombadil', 'type': 'PER'},\n",
    "{'text': 'Merry', 'type': 'PER'},\n",
    "{'text': 'Pippin', 'type': 'PER'},\n",
    "{'text': 'Tom Bombadil', 'type': 'PER'},\n",
    "{'text': 'Goldberry', 'type': 'PER'},\n",
    "{'text': 'Withywindle', 'type': 'LOC'},\n",
    "{'text': 'Tom', 'type': 'PER'},\n",
    "{'text': 'Tom', 'type': 'PER'},\n",
    "{'text': 'Tom', 'type': 'PER'},\n",
    "{'text': 'Brandywine River', 'type': 'LOC'},\n",
    "{'text': 'Bucklebury', 'type': 'LOC'},\n",
    "{'text': 'Forest', 'type': 'LOC'},\n",
    "{'text': 'Tom Bombadil', 'type': 'PER'},\n",
    "{'text': 'Barrow-downs', 'type': 'LOC'},\n",
    "{'text': 'River-daughter', 'type': 'PER'},\n",
    "{'text': 'Tom Bombadil', 'type': 'PER'},\n",
    "{'text': 'River-daughter', 'type': 'PER'}\n",
    "                      ]\n"
   ]
  },
  {
   "cell_type": "code",
   "execution_count": 32,
   "metadata": {},
   "outputs": [],
   "source": [
    "dict_flair = {}\n",
    "for label in sents_pred_labels_flair:\n",
    "  k = label.get('text')\n",
    "  if k not in dict_flair:\n",
    "    dict_flair[k] = 1\n",
    "  else:\n",
    "    dict_flair[k] += 1"
   ]
  },
  {
   "cell_type": "code",
   "execution_count": 39,
   "metadata": {},
   "outputs": [],
   "source": [
    "dict_true = {}\n",
    "for label in sents_true_labels:\n",
    "  k = label.get('text')\n",
    "  if k not in dict_true:\n",
    "    dict_true[k] = 1\n",
    "  else:\n",
    "    dict_true[k] += 1"
   ]
  },
  {
   "cell_type": "code",
   "execution_count": 79,
   "metadata": {},
   "outputs": [
    {
     "data": {
      "text/plain": [
       "{'dictionary_item_added': [root['Hey dol !'], root['Hill'], root['Slender'], root['Comes'], root['Whoa !'], root['Old Man Willow ?'], root['Old Man Willow !'], root['Sun'], root['Reeds']],\n",
       " 'dictionary_item_removed': [root['Willow-man'], root['Old Man Willow'], root['Withywindle'], root['River-daughter']],\n",
       " 'values_changed': {\"root['Goldberry']\": {'new_value': 1, 'old_value': 3}}}"
      ]
     },
     "execution_count": 79,
     "metadata": {},
     "output_type": "execute_result"
    }
   ],
   "source": [
    "\n",
    "DeepDiff(dict_true, dict_flair)"
   ]
  },
  {
   "cell_type": "code",
   "execution_count": 71,
   "metadata": {},
   "outputs": [],
   "source": [
    "def get_scores_from_dicts(dict_true, dict_ner):\n",
    "  TP = 0; FP = 0; FN = 0\n",
    "\n",
    "  for key in dict_ner.keys():\n",
    "    if key in dict_true.keys():\n",
    "      if (dict_ner[key] == dict_true[key]):\n",
    "        TP += dict_ner[key]\n",
    "      elif (dict_ner[key] > dict_true[key]):\n",
    "        TP += dict_true[key]; FP += (dict_ner[key] - dict_true[key])\n",
    "      else:\n",
    "        TP += dict_ner[key]; FP += (dict_true[key] - dict_ner[key])\n",
    "    else:\n",
    "      FP += dict_ner[key]\n",
    "\n",
    "  for key in dict_true.keys():\n",
    "    if key not in dict_ner.keys():\n",
    "      FN += dict_true[key]\n",
    "\n",
    "  return TP, FP, FN"
   ]
  },
  {
   "cell_type": "code",
   "execution_count": 75,
   "metadata": {},
   "outputs": [],
   "source": [
    "def print_scores(TP, FP, FN):\n",
    "  prec = TP / (TP + FP); recall = TP/(TP + FN); f1 = 2*prec * recall/ (prec + recall)\n",
    "  print(f\"Precision = {prec}\\n   Recall = {recall}\\n F1 Score = {f1}\") "
   ]
  },
  {
   "cell_type": "code",
   "execution_count": 77,
   "metadata": {},
   "outputs": [
    {
     "name": "stdout",
     "output_type": "stream",
     "text": [
      "Precision = 0.7833333333333333\n",
      "   Recall = 0.8545454545454545\n",
      " F1 Score = 0.817391304347826\n"
     ]
    }
   ],
   "source": [
    "TP, FP, FN = get_scores_from_dicts(dict_true, dict_flair)\n",
    "print_scores(TP, FP, FN)"
   ]
  },
  {
   "cell_type": "code",
   "execution_count": 63,
   "metadata": {},
   "outputs": [
    {
     "data": {
      "text/plain": [
       "{'dictionary_item_added': [root['Hey'], root['Bom'], root['Bombadillo'], root['Half'], root['Come'], root['Hill'], root['Slender'], root['Old'], root['Comes'], root['Poor'], root['’'], root['Big'], root['People'], root['Whoa'], root['Don'], root['My'], root['Master'], root['Man'], root['Willow'], root['Naught'], root['Eat'], root['Dig'], root['Drink'], root['Go'], root['Thank'], root['Well'], root['Time'], root['Too'], root['Hop'], root['Sun'], root['Out'], root['Fear'], root['Heed'], root['Almost'], root['Brandywine'], root['River'], root['Great'], root['White'], root['Strange'], root['Down'], root['Light'], root['Wind'], root['Reeds']],\n",
       " 'dictionary_item_removed': [root['Tom Bom'], root['Tom Bombadillo'], root['Tom Bombadil'], root['Big People'], root['Old Man Willow'], root['Brandywine River']],\n",
       " 'values_changed': {\"root['Forest']\": {'new_value': 4, 'old_value': 3},\n",
       "  \"root['Tom']\": {'new_value': 17, 'old_value': 9},\n",
       "  \"root['Bombadil']\": {'new_value': 7, 'old_value': 1},\n",
       "  \"root['Willow-man']\": {'new_value': 1, 'old_value': 2},\n",
       "  \"root['River-daughter']\": {'new_value': 1, 'old_value': 2}}}"
      ]
     },
     "execution_count": 63,
     "metadata": {},
     "output_type": "execute_result"
    }
   ],
   "source": [
    "tokens = []\n",
    "for sent in token_sent:\n",
    "  for i in word_tokenize(sent):\n",
    "    tokens.append(i)\n",
    "tags = nltk.pos_tag(tokens)\n",
    "dict_nltk = {}\n",
    "for word, tag in tags:\n",
    "  if tag == 'NNP':\n",
    "    if word not in dict_nltk:\n",
    "      dict_nltk[word] = 1\n",
    "    else:\n",
    "      dict_nltk[word] += 1\n",
    "\n",
    "DeepDiff(dict_true, dict_nltk)"
   ]
  },
  {
   "cell_type": "code",
   "execution_count": 78,
   "metadata": {},
   "outputs": [
    {
     "name": "stdout",
     "output_type": "stream",
     "text": [
      "Precision = 0.3333333333333333\n",
      "   Recall = 0.7636363636363637\n",
      " F1 Score = 0.46408839779005523\n"
     ]
    }
   ],
   "source": [
    "TP, FP, FN = get_scores_from_dicts(dict_true, dict_nltk)\n",
    "print_scores(TP, FP, FN)"
   ]
  }
 ],
 "metadata": {
  "interpreter": {
   "hash": "916dbcbb3f70747c44a77c7bcd40155683ae19c65e1c03b4aa3499c5328201f1"
  },
  "kernelspec": {
   "display_name": "Python 3.9.4 64-bit",
   "language": "python",
   "name": "python3"
  },
  "language_info": {
   "codemirror_mode": {
    "name": "ipython",
    "version": 3
   },
   "file_extension": ".py",
   "mimetype": "text/x-python",
   "name": "python",
   "nbconvert_exporter": "python",
   "pygments_lexer": "ipython3",
   "version": "3.9.4"
  },
  "orig_nbformat": 4
 },
 "nbformat": 4,
 "nbformat_minor": 2
}
